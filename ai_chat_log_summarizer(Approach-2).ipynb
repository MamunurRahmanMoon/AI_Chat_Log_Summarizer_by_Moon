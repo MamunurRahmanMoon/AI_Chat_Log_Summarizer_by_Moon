{
 "cells": [
  {
   "cell_type": "markdown",
   "id": "8c7262e3",
   "metadata": {},
   "source": [
    "# Approach-2 (TF-IDF, NLTK)"
   ]
  },
  {
   "cell_type": "markdown",
   "id": "5b79e9ba",
   "metadata": {},
   "source": [
    "# 1.1 Read input"
   ]
  },
  {
   "cell_type": "code",
   "execution_count": 1,
   "id": "523a3b01",
   "metadata": {},
   "outputs": [],
   "source": [
    "# Read text from chatlog\n",
    "with open(\"chatlog.txt\", \"r\") as file:\n",
    "    lines = file.readlines()"
   ]
  },
  {
   "cell_type": "code",
   "execution_count": 2,
   "id": "9f2ccbf3",
   "metadata": {},
   "outputs": [
    {
     "data": {
      "text/plain": [
       "['User: Hello!\\n',\n",
       " 'AI: Hi! How can I assist you today?\\n',\n",
       " 'User: Can you explain what machine learning is?\\n',\n",
       " 'AI: Certainly! Machine learning is a field of AI that allows systems to\\n',\n",
       " 'learn from data.']"
      ]
     },
     "execution_count": 2,
     "metadata": {},
     "output_type": "execute_result"
    }
   ],
   "source": [
    "lines"
   ]
  },
  {
   "cell_type": "markdown",
   "id": "f5b30b83",
   "metadata": {},
   "source": [
    "# 2.1 Chat Log Parsing"
   ]
  },
  {
   "cell_type": "markdown",
   "id": "73243fa6",
   "metadata": {},
   "source": [
    "> As per given format of the input text, conversations of a specific speakers can be in different line for a single conversation"
   ]
  },
  {
   "cell_type": "code",
   "execution_count": 5,
   "id": "b2d8111a",
   "metadata": {},
   "outputs": [
    {
     "name": "stdout",
     "output_type": "stream",
     "text": [
      "User: Hello!\n",
      "AI: Hi! How can I assist you today?\n",
      "User: Can you explain what machine learning is?\n",
      "AI: Certainly! Machine learning is a field of AI that allows systems to learn from data.\n"
     ]
    }
   ],
   "source": [
    "# Merge multi-line messages for each speaker\n",
    "\n",
    "messages = []\n",
    "current_speaker = None\n",
    "current_message = \"\"\n",
    "\n",
    "for line in lines:\n",
    "    line = line.strip() # Remove leading/trailing whitespace\n",
    "\n",
    "    # Check user\n",
    "    if line.startswith(\"User:\"):\n",
    "        if current_speaker is not None:\n",
    "            # If the current speaker is not None, it means we have a previous message\n",
    "            messages.append((current_speaker, current_message.strip()))\n",
    "\n",
    "        current_speaker = \"User\"\n",
    "        current_message = line[len(\"User: \"):].strip()\n",
    "    \n",
    "    # Check AI\n",
    "    elif line.startswith(\"AI: \"):\n",
    "        if current_speaker is not None:\n",
    "            messages.append((current_speaker, current_message.strip()))\n",
    "        current_speaker = \"AI\"\n",
    "        current_message = line[len(\"AI: \"):].strip()\n",
    "    \n",
    "    else:\n",
    "        current_message += \" \" + line\n",
    "\n",
    "# Don't forget the last message\n",
    "if current_speaker is not None:\n",
    "    messages.append((current_speaker, current_message.strip()))\n",
    "\n",
    "# Example: print all messages\n",
    "for speaker, message in messages:\n",
    "    print(f\"{speaker}: {message}\")"
   ]
  },
  {
   "cell_type": "code",
   "execution_count": 6,
   "id": "601952df",
   "metadata": {},
   "outputs": [
    {
     "data": {
      "text/plain": [
       "[('User', 'Hello!'),\n",
       " ('AI', 'Hi! How can I assist you today?'),\n",
       " ('User', 'Can you explain what machine learning is?'),\n",
       " ('AI',\n",
       "  'Certainly! Machine learning is a field of AI that allows systems to learn from data.')]"
      ]
     },
     "execution_count": 6,
     "metadata": {},
     "output_type": "execute_result"
    }
   ],
   "source": [
    "messages"
   ]
  },
  {
   "cell_type": "code",
   "execution_count": 7,
   "id": "565429ba",
   "metadata": {},
   "outputs": [
    {
     "data": {
      "text/plain": [
       "('AI', 'Hi! How can I assist you today?')"
      ]
     },
     "execution_count": 7,
     "metadata": {},
     "output_type": "execute_result"
    }
   ],
   "source": [
    "messages[1] # Second message"
   ]
  },
  {
   "cell_type": "markdown",
   "id": "57fed8e2",
   "metadata": {},
   "source": [
    "# NLTK Implementation"
   ]
  },
  {
   "cell_type": "markdown",
   "id": "0837632a",
   "metadata": {},
   "source": [
    "> NLTK will be used for:\n",
    "    \n",
    "- removing stopwords\n",
    "- tokenizing for tf-idf\n",
    "- lemmatization to get the root word resulting better word extraction\n",
    "\n"
   ]
  },
  {
   "cell_type": "code",
   "execution_count": 9,
   "id": "190ffb1c",
   "metadata": {},
   "outputs": [
    {
     "name": "stdout",
     "output_type": "stream",
     "text": [
      "Requirement already satisfied: NLTK in c:\\users\\user\\miniconda3\\envs\\nlp_1\\lib\\site-packages (3.9.1)\n",
      "Requirement already satisfied: click in c:\\users\\user\\miniconda3\\envs\\nlp_1\\lib\\site-packages (from NLTK) (8.1.7)\n",
      "Requirement already satisfied: joblib in c:\\users\\user\\miniconda3\\envs\\nlp_1\\lib\\site-packages (from NLTK) (1.4.2)\n",
      "Requirement already satisfied: regex>=2021.8.3 in c:\\users\\user\\miniconda3\\envs\\nlp_1\\lib\\site-packages (from NLTK) (2024.9.11)\n",
      "Requirement already satisfied: tqdm in c:\\users\\user\\miniconda3\\envs\\nlp_1\\lib\\site-packages (from NLTK) (4.66.5)\n",
      "Requirement already satisfied: colorama in c:\\users\\user\\appdata\\roaming\\python\\python312\\site-packages (from click->NLTK) (0.4.6)\n"
     ]
    }
   ],
   "source": [
    "!pip install -U NLTK"
   ]
  },
  {
   "cell_type": "code",
   "execution_count": 8,
   "id": "825d7852",
   "metadata": {},
   "outputs": [],
   "source": [
    "import nltk\n",
    "from nltk.corpus import stopwords\n",
    "from nltk.tokenize import word_tokenize\n",
    "from nltk.stem import WordNetLemmatizer"
   ]
  },
  {
   "cell_type": "code",
   "execution_count": 10,
   "id": "86da259e",
   "metadata": {},
   "outputs": [
    {
     "name": "stderr",
     "output_type": "stream",
     "text": [
      "[nltk_data] Downloading package punkt_tab to\n",
      "[nltk_data]     C:\\Users\\USER\\AppData\\Roaming\\nltk_data...\n",
      "[nltk_data]   Unzipping tokenizers\\punkt_tab.zip.\n",
      "[nltk_data] Downloading package stopwords to\n",
      "[nltk_data]     C:\\Users\\USER\\AppData\\Roaming\\nltk_data...\n",
      "[nltk_data]   Package stopwords is already up-to-date!\n",
      "[nltk_data] Downloading package wordnet to\n",
      "[nltk_data]     C:\\Users\\USER\\AppData\\Roaming\\nltk_data...\n",
      "[nltk_data]   Package wordnet is already up-to-date!\n",
      "[nltk_data] Downloading package averaged_perceptron_tagger to\n",
      "[nltk_data]     C:\\Users\\USER\\AppData\\Roaming\\nltk_data...\n",
      "[nltk_data]   Package averaged_perceptron_tagger is already up-to-\n",
      "[nltk_data]       date!\n",
      "[nltk_data] Downloading package maxent_ne_chunker to\n",
      "[nltk_data]     C:\\Users\\USER\\AppData\\Roaming\\nltk_data...\n",
      "[nltk_data]   Package maxent_ne_chunker is already up-to-date!\n",
      "[nltk_data] Downloading package words to\n",
      "[nltk_data]     C:\\Users\\USER\\AppData\\Roaming\\nltk_data...\n",
      "[nltk_data]   Package words is already up-to-date!\n"
     ]
    },
    {
     "data": {
      "text/plain": [
       "True"
      ]
     },
     "execution_count": 10,
     "metadata": {},
     "output_type": "execute_result"
    }
   ],
   "source": [
    "# Download NLTK resources (run once)\n",
    "nltk.download('punkt_tab')\n",
    "nltk.download('stopwords')\n",
    "nltk.download('wordnet')\n",
    "nltk.download('averaged_perceptron_tagger')\n",
    "nltk.download('maxent_ne_chunker')\n",
    "nltk.download('words')"
   ]
  },
  {
   "cell_type": "markdown",
   "id": "b4d7d708",
   "metadata": {},
   "source": [
    "## Combine all the messages to make the corpus"
   ]
  },
  {
   "cell_type": "code",
   "execution_count": 11,
   "id": "bec96fde",
   "metadata": {},
   "outputs": [
    {
     "data": {
      "text/plain": [
       "'Hello! Hi! How can I assist you today? Can you explain what machine learning is? Certainly! Machine learning is a field of AI that allows systems to learn from data.'"
      ]
     },
     "execution_count": 11,
     "metadata": {},
     "output_type": "execute_result"
    }
   ],
   "source": [
    "all_text = \" \".join([msg[1] for msg in messages])\n",
    "all_text"
   ]
  },
  {
   "cell_type": "markdown",
   "id": "ead9c770",
   "metadata": {},
   "source": [
    "## Tokenize, remove stopwords, and lemmatize"
   ]
  },
  {
   "cell_type": "code",
   "execution_count": 66,
   "id": "24067867",
   "metadata": {},
   "outputs": [],
   "source": [
    "def lemmatize_text(text):\n",
    "    tokens = word_tokenize(text)\n",
    "    lemmatizer = WordNetLemmatizer()\n",
    "    stop_words = set(stopwords.words('english'))\n",
    "    \n",
    "    custom_stopwords = {\"hi\", \"hello\", \"hey\", \"thanks\", \"thank\", \"please\", \"ok\", \"okay\", \"sure\", \"yes\", \"no\", \"maybe\", \"let's\", \"let us\"}\n",
    "\n",
    "    stop_words.update(custom_stopwords)\n",
    "    return ' '.join(\n",
    "        lemmatizer.lemmatize(w.lower())\n",
    "        for w in tokens\n",
    "        if w.isalpha() and w.lower() not in stop_words\n",
    "    )\n",
    "\n",
    "lemmatized_docs = [lemmatize_text(msg[1]) for msg in messages]"
   ]
  },
  {
   "cell_type": "code",
   "execution_count": 67,
   "id": "30d74fbb",
   "metadata": {},
   "outputs": [
    {
     "data": {
      "text/plain": [
       "['',\n",
       " 'assist today',\n",
       " 'explain machine learning',\n",
       " 'certainly machine learning field ai allows system learn data']"
      ]
     },
     "execution_count": 67,
     "metadata": {},
     "output_type": "execute_result"
    }
   ],
   "source": [
    "lemmatized_docs"
   ]
  },
  {
   "cell_type": "markdown",
   "id": "cf681c4d",
   "metadata": {},
   "source": [
    "# 2.3 Message Statistics"
   ]
  },
  {
   "cell_type": "code",
   "execution_count": 84,
   "id": "88110cf8",
   "metadata": {},
   "outputs": [
    {
     "name": "stdout",
     "output_type": "stream",
     "text": [
      "TOtal number of messages 4\n"
     ]
    }
   ],
   "source": [
    "# Count total messages\n",
    "print(\"TOtal number of messages\", len(messages))"
   ]
  },
  {
   "cell_type": "code",
   "execution_count": 85,
   "id": "f3f2ade6",
   "metadata": {},
   "outputs": [
    {
     "name": "stdout",
     "output_type": "stream",
     "text": [
      "USER Message Count:  2\n",
      "AI Replyy Count:  2\n"
     ]
    }
   ],
   "source": [
    "# Count messages from User vs. AI\n",
    "user_messages = [msg for msg in messages if msg[0] == \"User\"]\n",
    "ai_messages = [msg for msg in messages if msg[0] == \"AI\"]\n",
    "\n",
    "print(\"USER Message Count: \", len(user_messages))\n",
    "print(\"AI Replyy Count: \", len(ai_messages))"
   ]
  },
  {
   "cell_type": "markdown",
   "id": "e50d8666",
   "metadata": {},
   "source": [
    "# 2.3 Keyword Analysis"
   ]
  },
  {
   "cell_type": "markdown",
   "id": "dc8d2312",
   "metadata": {},
   "source": [
    "> ### **TF-IDF** for Keyword Extraction"
   ]
  },
  {
   "cell_type": "code",
   "execution_count": 86,
   "id": "599bf277",
   "metadata": {},
   "outputs": [],
   "source": [
    "# Import tf-idf\n",
    "from sklearn.feature_extraction.text import TfidfVectorizer"
   ]
  },
  {
   "cell_type": "code",
   "execution_count": 92,
   "id": "56a4620e",
   "metadata": {},
   "outputs": [
    {
     "name": "stdout",
     "output_type": "stream",
     "text": [
      "Top keywords by TF-IDF: ['machine learning', 'explain machine', 'explain machine learning', 'assist today', 'hi assist today']\n"
     ]
    }
   ],
   "source": [
    "# Use each message as a document for better TF-IDF results\n",
    "lemmatized_docs = [msg[1] for msg in messages]\n",
    "vectorizer = TfidfVectorizer(stop_words='english', ngram_range=(2, 3))\n",
    "\n",
    "# Generate TF-IDF matrix\n",
    "tfidf_matrix = vectorizer.fit_transform(lemmatized_docs)\n",
    "\n",
    "# Get feature names (words)\n",
    "feature_names = vectorizer.get_feature_names_out()\n",
    "\n",
    "# Sum TF-IDF scores across all docs\n",
    "scores = tfidf_matrix.sum(axis=0).A1\n",
    "top_indices = scores.argsort()[-5:][::-1]\n",
    "top_keywords = [feature_names[i] for i in top_indices]\n",
    "\n",
    "print(\"Top keywords by TF-IDF:\", top_keywords)"
   ]
  },
  {
   "cell_type": "markdown",
   "id": "8e412f63",
   "metadata": {},
   "source": [
    "# 2.4 Generate Summary"
   ]
  },
  {
   "cell_type": "code",
   "execution_count": 88,
   "id": "c1ef33e8",
   "metadata": {},
   "outputs": [
    {
     "name": "stdout",
     "output_type": "stream",
     "text": [
      "Total exchanges (User-AI Pairs Count):  2\n"
     ]
    }
   ],
   "source": [
    "# Count total exchanges (User-AI Pairs Count)\n",
    "exchanges_count = min(len(user_messages), len(ai_messages))\n",
    "print(\"Total exchanges (User-AI Pairs Count): \", exchanges_count)"
   ]
  },
  {
   "cell_type": "code",
   "execution_count": 89,
   "id": "d5a62bc4",
   "metadata": {},
   "outputs": [],
   "source": [
    "# Main topic\n",
    "main_topic = top_keywords[0] if top_keywords else \"No main topic found\""
   ]
  },
  {
   "cell_type": "code",
   "execution_count": 90,
   "id": "0fa78229",
   "metadata": {},
   "outputs": [
    {
     "name": "stdout",
     "output_type": "stream",
     "text": [
      "Summary:\n",
      "- The conversation had 2 exchanges.\n",
      "- The user asked mainly about machine learning and its uses.\n",
      "- Most common keywords: machine learning, explain machine, explain machine learning, assist today, hi assist today\n"
     ]
    }
   ],
   "source": [
    "# Print the summary\n",
    "print(\"Summary:\")\n",
    "print(f\"- The conversation had {exchanges_count} exchanges.\")\n",
    "print(f\"- The user asked mainly about {main_topic} and its uses.\")\n",
    "print(f\"- Most common keywords: {', '.join(top_keywords)}\")"
   ]
  }
 ],
 "metadata": {
  "kernelspec": {
   "display_name": "nlp_1",
   "language": "python",
   "name": "python3"
  },
  "language_info": {
   "codemirror_mode": {
    "name": "ipython",
    "version": 3
   },
   "file_extension": ".py",
   "mimetype": "text/x-python",
   "name": "python",
   "nbconvert_exporter": "python",
   "pygments_lexer": "ipython3",
   "version": "3.12.3"
  }
 },
 "nbformat": 4,
 "nbformat_minor": 5
}
