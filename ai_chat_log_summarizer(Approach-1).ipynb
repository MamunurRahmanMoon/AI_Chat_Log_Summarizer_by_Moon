{
 "cells": [
  {
   "cell_type": "markdown",
   "id": "5b79e9ba",
   "metadata": {},
   "source": [
    "# 1.1 Read input"
   ]
  },
  {
   "cell_type": "code",
   "execution_count": 47,
   "id": "523a3b01",
   "metadata": {},
   "outputs": [],
   "source": [
    "# Read text from chatlog\n",
    "with open(\"chatlog.txt\", \"r\") as file:\n",
    "    lines = file.readlines()"
   ]
  },
  {
   "cell_type": "code",
   "execution_count": 48,
   "id": "9f2ccbf3",
   "metadata": {},
   "outputs": [
    {
     "data": {
      "text/plain": [
       "['User: Hi, can you tell me about Python? and\\n',\n",
       " 'why do we need it?\\n',\n",
       " 'AI: Sure! Python is a popular programming language known for\\n',\n",
       " 'its readability.\\n',\n",
       " 'User: What can I use it for?\\n',\n",
       " 'AI: You can use Python for web development, data analysis,\\n',\n",
       " 'AI, and more.']"
      ]
     },
     "execution_count": 48,
     "metadata": {},
     "output_type": "execute_result"
    }
   ],
   "source": [
    "lines"
   ]
  },
  {
   "cell_type": "markdown",
   "id": "f5b30b83",
   "metadata": {},
   "source": [
    "# 2.1 Chat Log Parsing"
   ]
  },
  {
   "cell_type": "markdown",
   "id": "73243fa6",
   "metadata": {},
   "source": [
    "> As per given format of the input text, conversations of a specific speakers can be in different line for a single conversation"
   ]
  },
  {
   "cell_type": "code",
   "execution_count": 49,
   "id": "b2d8111a",
   "metadata": {},
   "outputs": [
    {
     "name": "stdout",
     "output_type": "stream",
     "text": [
      "User: Hi, can you tell me about Python? and why do we need it?\n",
      "AI: Sure! Python is a popular programming language known for its readability.\n",
      "User: What can I use it for?\n",
      "AI: You can use Python for web development, data analysis, AI, and more.\n"
     ]
    }
   ],
   "source": [
    "# Merge multi-line messages for each speaker\n",
    "\n",
    "messages = []\n",
    "current_speaker = None\n",
    "current_message = \"\"\n",
    "\n",
    "for line in lines:\n",
    "    line = line.strip() # Remove leading/trailing whitespace\n",
    "\n",
    "    # Check user\n",
    "    if line.startswith(\"User:\"):\n",
    "        if current_speaker is not None:\n",
    "            # If the current speaker is not None, it means we have a previous message\n",
    "            messages.append((current_speaker, current_message.strip()))\n",
    "\n",
    "        current_speaker = \"User\"\n",
    "        current_message = line[len(\"User: \"):].strip()\n",
    "    \n",
    "    # Check AI\n",
    "    elif line.startswith(\"AI: \"):\n",
    "        if current_speaker is not None:\n",
    "            messages.append((current_speaker, current_message.strip()))\n",
    "        current_speaker = \"AI\"\n",
    "        current_message = line[len(\"AI: \"):].strip()\n",
    "    \n",
    "    else:\n",
    "        current_message += \" \" + line\n",
    "\n",
    "# Don't forget the last message\n",
    "if current_speaker is not None:\n",
    "    messages.append((current_speaker, current_message.strip()))\n",
    "\n",
    "# Example: print all messages\n",
    "for speaker, message in messages:\n",
    "    print(f\"{speaker}: {message}\")"
   ]
  },
  {
   "cell_type": "code",
   "execution_count": 58,
   "id": "601952df",
   "metadata": {},
   "outputs": [
    {
     "data": {
      "text/plain": [
       "[('User', 'Hi, can you tell me about Python? and why do we need it?'),\n",
       " ('AI',\n",
       "  'Sure! Python is a popular programming language known for its readability.'),\n",
       " ('User', 'What can I use it for?'),\n",
       " ('AI',\n",
       "  'You can use Python for web development, data analysis, AI, and more.')]"
      ]
     },
     "execution_count": 58,
     "metadata": {},
     "output_type": "execute_result"
    }
   ],
   "source": [
    "messages"
   ]
  },
  {
   "cell_type": "code",
   "execution_count": null,
   "id": "565429ba",
   "metadata": {},
   "outputs": [
    {
     "name": "stdout",
     "output_type": "stream",
     "text": [
      "User: Hi, can you tell me about Python? and why do we need it?\n",
      "AI: Sure! Python is a popular programming language known for its readability.\n",
      "User: What can I use it for?\n",
      "AI: You can use Python for web development, data analysis, AI, and more.\n"
     ]
    }
   ],
   "source": [
    "messages[1] # Second message"
   ]
  },
  {
   "cell_type": "markdown",
   "id": "cf681c4d",
   "metadata": {},
   "source": [
    "# 2.3 Message Statistics"
   ]
  },
  {
   "cell_type": "code",
   "execution_count": 63,
   "id": "88110cf8",
   "metadata": {},
   "outputs": [
    {
     "name": "stdout",
     "output_type": "stream",
     "text": [
      "TOtal number of messages 4\n"
     ]
    }
   ],
   "source": [
    "# Count total messages\n",
    "print(\"TOtal number of messages\", len(messages))"
   ]
  },
  {
   "cell_type": "code",
   "execution_count": 64,
   "id": "f3f2ade6",
   "metadata": {},
   "outputs": [
    {
     "name": "stdout",
     "output_type": "stream",
     "text": [
      "USER Message Count:  2\n",
      "AI Replyy Count:  2\n"
     ]
    }
   ],
   "source": [
    "# Count messages from User vs. AI\n",
    "user_messages = [msg for msg in messages if msg[0] == \"User\"]\n",
    "ai_messages = [msg for msg in messages if msg[0] == \"AI\"]\n",
    "\n",
    "print(\"USER Message Count: \", len(user_messages))\n",
    "print(\"AI Replyy Count: \", len(ai_messages))"
   ]
  },
  {
   "cell_type": "markdown",
   "id": "e50d8666",
   "metadata": {},
   "source": [
    "# 2.3 Keyword Analysis"
   ]
  },
  {
   "cell_type": "code",
   "execution_count": 85,
   "id": "56a4620e",
   "metadata": {},
   "outputs": [
    {
     "name": "stdout",
     "output_type": "stream",
     "text": [
      "Most frequent words: ['python', 'use', 'tell', 'need', 'sure']\n"
     ]
    }
   ],
   "source": [
    "## Extract the top 5 most frequent used words\n",
    "\n",
    "# To do this we need to identify the stopwords so that we dont count them as frequent words\n",
    "\n",
    "# So, we will create a custom set of common stop words\n",
    "stop_words = set([\n",
    "    \"the\", \"is\", \"a\", \"an\", \"and\", \"or\", \"to\", \"for\", \"of\", \"in\", \"on\", \"with\",\n",
    "    \"can\", \"i\", \"you\", \"it\", \"its\", \"me\", \"about\", \"what\", \"we\", \"do\", \"hi\", \"why\"\n",
    "])\n",
    "\n",
    "\n",
    "# Now we can count the words in the messages\n",
    "from collections import Counter\n",
    "word_counter = Counter()\n",
    "\n",
    "for speaker, message in messages:\n",
    "    # Split the message into words\n",
    "    words = message.split()\n",
    "    \n",
    "    # Filter out stopwords and count the words\n",
    "    for word in words:\n",
    "        word = word.strip(\".,!?\").lower()  # Convert to lowercase\n",
    "        if word not in stop_words:\n",
    "            word_counter[word] += 1\n",
    "\n",
    "# Get the most frequent words\n",
    "most_frequent_words = [kw for kw, count in word_counter.most_common(5)]\n",
    "print(\"Most frequent words:\", most_frequent_words)"
   ]
  },
  {
   "cell_type": "markdown",
   "id": "8e412f63",
   "metadata": {},
   "source": [
    "# 2.4 Generate Summary"
   ]
  },
  {
   "cell_type": "code",
   "execution_count": 86,
   "id": "c1ef33e8",
   "metadata": {},
   "outputs": [
    {
     "name": "stdout",
     "output_type": "stream",
     "text": [
      "Total exchanges (User-AI Pairs Count):  2\n"
     ]
    }
   ],
   "source": [
    "# Count total exchanges (User-AI Pairs Count)\n",
    "exchanges_count = min(len(user_messages), len(ai_messages))\n",
    "print(\"Total exchanges (User-AI Pairs Count): \", exchanges_count)"
   ]
  },
  {
   "cell_type": "code",
   "execution_count": 87,
   "id": "d5a62bc4",
   "metadata": {},
   "outputs": [
    {
     "name": "stdout",
     "output_type": "stream",
     "text": [
      "Main topic of the conversation:  python\n"
     ]
    }
   ],
   "source": [
    "main_topic = most_frequent_words[0] if most_frequent_words else None\n",
    "print(\"Main topic of the conversation: \", main_topic)"
   ]
  },
  {
   "cell_type": "code",
   "execution_count": 88,
   "id": "0fa78229",
   "metadata": {},
   "outputs": [
    {
     "name": "stdout",
     "output_type": "stream",
     "text": [
      "Summary:\n",
      "- The conversation had 2 exchanges.\n",
      "- The user asked mainly about python and its uses.\n",
      "- Most common keywords: python, use, tell, need, sure\n"
     ]
    }
   ],
   "source": [
    "# Print the summary\n",
    "print(\"Summary:\")\n",
    "print(f\"- The conversation had {exchanges_count} exchanges.\")\n",
    "print(f\"- The user asked mainly about {main_topic} and its uses.\")\n",
    "print(f\"- Most common keywords: {', '.join(most_frequent_words)}\")"
   ]
  },
  {
   "cell_type": "code",
   "execution_count": null,
   "id": "6b982c62",
   "metadata": {},
   "outputs": [],
   "source": []
  }
 ],
 "metadata": {
  "kernelspec": {
   "display_name": "nlp_1",
   "language": "python",
   "name": "python3"
  },
  "language_info": {
   "codemirror_mode": {
    "name": "ipython",
    "version": 3
   },
   "file_extension": ".py",
   "mimetype": "text/x-python",
   "name": "python",
   "nbconvert_exporter": "python",
   "pygments_lexer": "ipython3",
   "version": "3.12.3"
  }
 },
 "nbformat": 4,
 "nbformat_minor": 5
}
