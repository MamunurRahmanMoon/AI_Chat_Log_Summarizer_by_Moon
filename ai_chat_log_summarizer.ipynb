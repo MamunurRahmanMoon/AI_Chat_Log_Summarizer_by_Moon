{
 "cells": [
  {
   "cell_type": "markdown",
   "id": "5b79e9ba",
   "metadata": {},
   "source": [
    "# Read input"
   ]
  },
  {
   "cell_type": "code",
   "execution_count": 47,
   "id": "523a3b01",
   "metadata": {},
   "outputs": [],
   "source": [
    "# Read text from chatlog\n",
    "with open(\"chatlog.txt\", \"r\") as file:\n",
    "    lines = file.readlines()"
   ]
  },
  {
   "cell_type": "code",
   "execution_count": 48,
   "id": "9f2ccbf3",
   "metadata": {},
   "outputs": [
    {
     "data": {
      "text/plain": [
       "['User: Hi, can you tell me about Python? and\\n',\n",
       " 'why do we need it?\\n',\n",
       " 'AI: Sure! Python is a popular programming language known for\\n',\n",
       " 'its readability.\\n',\n",
       " 'User: What can I use it for?\\n',\n",
       " 'AI: You can use Python for web development, data analysis,\\n',\n",
       " 'AI, and more.']"
      ]
     },
     "execution_count": 48,
     "metadata": {},
     "output_type": "execute_result"
    }
   ],
   "source": [
    "lines"
   ]
  },
  {
   "cell_type": "markdown",
   "id": "73243fa6",
   "metadata": {},
   "source": [
    "> As per given format of the input text, conversations of a specific speakers can be in different line for a single conversation"
   ]
  },
  {
   "cell_type": "code",
   "execution_count": 49,
   "id": "b2d8111a",
   "metadata": {},
   "outputs": [
    {
     "name": "stdout",
     "output_type": "stream",
     "text": [
      "User: Hi, can you tell me about Python? and why do we need it?\n",
      "AI: Sure! Python is a popular programming language known for its readability.\n",
      "User: What can I use it for?\n",
      "AI: You can use Python for web development, data analysis, AI, and more.\n"
     ]
    }
   ],
   "source": [
    "# Merge multi-line messages for each speaker\n",
    "\n",
    "messages = []\n",
    "current_speaker = None\n",
    "current_message = \"\"\n",
    "\n",
    "for line in lines:\n",
    "    line = line.strip() # Remove leading/trailing whitespace\n",
    "\n",
    "    # Check user\n",
    "    if line.startswith(\"User:\"):\n",
    "        if current_speaker is not None:\n",
    "            # If the current speaker is not None, it means we have a previous message\n",
    "            messages.append((current_speaker, current_message.strip()))\n",
    "\n",
    "        current_speaker = \"User\"\n",
    "        current_message = line[len(\"User: \"):].strip()\n",
    "    \n",
    "    # Check AI\n",
    "    elif line.startswith(\"AI: \"):\n",
    "        if current_speaker is not None:\n",
    "            messages.append((current_speaker, current_message.strip()))\n",
    "        current_speaker = \"AI\"\n",
    "        current_message = line[len(\"AI: \"):].strip()\n",
    "    \n",
    "    else:\n",
    "        current_message += \" \" + line\n",
    "\n",
    "# Don't forget the last message\n",
    "if current_speaker is not None:\n",
    "    messages.append((current_speaker, current_message.strip()))\n",
    "\n",
    "# Example: print all messages\n",
    "for speaker, message in messages:\n",
    "    print(f\"{speaker}: {message}\")"
   ]
  },
  {
   "cell_type": "code",
   "execution_count": null,
   "id": "565429ba",
   "metadata": {},
   "outputs": [
    {
     "name": "stdout",
     "output_type": "stream",
     "text": [
      "User: Hi, can you tell me about Python? and why do we need it?\n",
      "AI: Sure! Python is a popular programming language known for its readability.\n",
      "User: What can I use it for?\n",
      "AI: You can use Python for web development, data analysis, AI, and more.\n"
     ]
    }
   ],
   "source": [
    "messages[1] # Second message"
   ]
  },
  {
   "cell_type": "code",
   "execution_count": null,
   "id": "88110cf8",
   "metadata": {},
   "outputs": [],
   "source": []
  },
  {
   "cell_type": "code",
   "execution_count": null,
   "id": "f3f2ade6",
   "metadata": {},
   "outputs": [],
   "source": []
  }
 ],
 "metadata": {
  "kernelspec": {
   "display_name": "nlp_1",
   "language": "python",
   "name": "python3"
  },
  "language_info": {
   "codemirror_mode": {
    "name": "ipython",
    "version": 3
   },
   "file_extension": ".py",
   "mimetype": "text/x-python",
   "name": "python",
   "nbconvert_exporter": "python",
   "pygments_lexer": "ipython3",
   "version": "3.12.3"
  }
 },
 "nbformat": 4,
 "nbformat_minor": 5
}
